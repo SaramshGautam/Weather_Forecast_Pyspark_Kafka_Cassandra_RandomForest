{
 "cells": [
  {
   "cell_type": "code",
   "execution_count": 2,
   "metadata": {},
   "outputs": [
    {
     "name": "stderr",
     "output_type": "stream",
     "text": [
      "24/02/28 22:54:30 WARN Utils: Your hostname, saramshs-MacBook-Air.local resolves to a loopback address: 127.0.0.1; using 192.168.0.19 instead (on interface en0)\n",
      "24/02/28 22:54:30 WARN Utils: Set SPARK_LOCAL_IP if you need to bind to another address\n",
      "Setting default log level to \"WARN\".\n",
      "To adjust logging level use sc.setLogLevel(newLevel). For SparkR, use setLogLevel(newLevel).\n",
      "24/02/28 22:54:31 WARN NativeCodeLoader: Unable to load native-hadoop library for your platform... using builtin-java classes where applicable\n",
      "24/02/28 22:54:31 WARN Utils: Service 'SparkUI' could not bind on port 4040. Attempting port 4041.\n",
      "24/02/28 22:54:31 WARN Utils: Service 'SparkUI' could not bind on port 4041. Attempting port 4042.\n"
     ]
    },
    {
     "name": "stderr",
     "output_type": "stream",
     "text": [
      "24/02/28 22:54:47 WARN GarbageCollectionMetrics: To enable non-built-in garbage collector(s) List(G1 Concurrent GC), users should configure it(them) to spark.eventLog.gcMetrics.youngGenerationGarbageCollectors or spark.eventLog.gcMetrics.oldGenerationGarbageCollectors\n"
     ]
    }
   ],
   "source": [
    "from pyspark.sql import SparkSession\n",
    "from pyspark.sql.functions import col, lit\n",
    "\n",
    "# Start a Spark session\n",
    "spark = SparkSession.builder.appName(\"WeatherDataProcessing\").config(\"spark.driver.memory\", \"5g\").getOrCreate()\n"
   ]
  },
  {
   "cell_type": "markdown",
   "metadata": {},
   "source": [
    "====================================================================================================================================================================================\n",
    "#### Aggregating Weather Data with Apache Spark\n",
    "##### The code aggregates weather data (humidity, pressure, temperature, wind direction, speed, and conditions) from multiple CSV files for various cities into a single Spark DataFrame. It reads data, renames columns for consistency, joins them on datetime, and adds city attributes (name, country, latitude, longitude), creating a comprehensive dataset for analysis."
   ]
  },
  {
   "cell_type": "code",
   "execution_count": null,
   "metadata": {},
   "outputs": [],
   "source": [
    "BROAD_WEATHER_COL = 'Broad_Weather_Condition'\n",
    "\n",
    "# Paths Definition\n",
    "humidity_path = 'dataset/humidity.csv'\n",
    "pressure_path = 'dataset/pressure.csv'\n",
    "temp_path = 'dataset/temperature.csv'\n",
    "weather_path = 'dataset/weather_description.csv'\n",
    "wind_dir_path = 'dataset/wind_direction.csv'\n",
    "wind_spd_path = 'dataset/wind_speed.csv'\n",
    "city_path = 'dataset/city_attributes.csv'\n",
    "\n",
    "# Read CSV files into Spark DataFrames\n",
    "humidity_df = spark.read.csv(humidity_path, header=True, inferSchema=True)\n",
    "pressure_df = spark.read.csv(pressure_path, header=True, inferSchema=True)\n",
    "temp_df = spark.read.csv(temp_path, header=True, inferSchema=True)\n",
    "weather_df = spark.read.csv(weather_path, header=True, inferSchema=True)\n",
    "wind_dir_df = spark.read.csv(wind_dir_path, header=True, inferSchema=True)\n",
    "wind_spd_df = spark.read.csv(wind_spd_path, header=True, inferSchema=True)\n",
    "city_df = spark.read.csv(city_path, header=True, inferSchema=True)\n",
    "\n",
    "# Define columns\n",
    "DATETIME_COL = 'datetime'\n",
    "HUMIDITY_COL = 'humidity'\n",
    "PRESSURE_COL = 'pressure'\n",
    "TEMPERATURE_COL = 'temperature'\n",
    "WIND_DIRECTION_COL = 'wind_direction'\n",
    "WIND_SPEED_COL = 'wind_speed'\n",
    "LATITUDE_COL = 'latitude'\n",
    "LONGITUDE_COL = 'longitude'\n",
    "CITY_COL = 'city'\n",
    "COUNTRY_COL = 'country'\n",
    "WEATHER_CONDITION_COL = 'weather_condition'\n",
    "\n",
    "def filter_dataframe_by_city_column(dataframe, city_name, new_column_name):\n",
    "    return dataframe.withColumnRenamed(city_name, new_column_name).select(DATETIME_COL, new_column_name)\n",
    "\n",
    "def join_dataframes(dataframes, column_name):\n",
    "    joined_df = dataframes[0]\n",
    "    for dataframe in dataframes[1:]:\n",
    "        joined_df = joined_df.join(dataframe, column_name, 'inner')\n",
    "    return joined_df\n",
    "\n",
    "weather_measurements_df = None\n",
    "\n",
    "for row in city_df.collect():    \n",
    "    city = row['City']\n",
    "    country = row['Country']\n",
    "    latitude = row['Latitude']\n",
    "    longitude = row['Longitude']\n",
    "\n",
    "    dataframes = [\n",
    "        filter_dataframe_by_city_column(humidity_df, city, HUMIDITY_COL),\n",
    "        filter_dataframe_by_city_column(pressure_df, city, PRESSURE_COL),\n",
    "        filter_dataframe_by_city_column(temp_df, city, TEMPERATURE_COL),\n",
    "        filter_dataframe_by_city_column(wind_dir_df, city, WIND_DIRECTION_COL),\n",
    "        filter_dataframe_by_city_column(wind_spd_df, city, WIND_SPEED_COL),\n",
    "        filter_dataframe_by_city_column(weather_df, city, WEATHER_CONDITION_COL)\n",
    "\n",
    "    ]\n",
    "\n",
    "    joined_df = join_dataframes(dataframes, DATETIME_COL) \\\n",
    "        .withColumn(CITY_COL, lit(city)) \\\n",
    "        .withColumn(COUNTRY_COL, lit(country)) \\\n",
    "        .withColumn(LATITUDE_COL, lit(latitude)) \\\n",
    "        .withColumn(LONGITUDE_COL, lit(longitude))\n",
    "\n",
    "    weather_measurements_df = weather_measurements_df.union(joined_df) if weather_measurements_df else joined_df\n",
    "\n",
    "# weather_measurements_df.show()\n",
    "\n"
   ]
  },
  {
   "cell_type": "markdown",
   "metadata": {},
   "source": [
    "##### Schema of the dataframe"
   ]
  },
  {
   "cell_type": "code",
   "execution_count": 3,
   "metadata": {},
   "outputs": [
    {
     "name": "stderr",
     "output_type": "stream",
     "text": [
      "[Stage 201:=======================================>              (79 + 8) / 108]\r"
     ]
    },
    {
     "name": "stdout",
     "output_type": "stream",
     "text": [
      "Number of rows: 1640268\n",
      "Number of columns: 11\n"
     ]
    },
    {
     "name": "stderr",
     "output_type": "stream",
     "text": [
      "                                                                                \r"
     ]
    }
   ],
   "source": [
    "num_rows = weather_measurements_df.count()\n",
    "num_columns = len(weather_measurements_df.columns)\n",
    "\n",
    "print(\"Number of rows:\", num_rows)\n",
    "print(\"Number of columns:\", num_columns)\n"
   ]
  },
  {
   "cell_type": "code",
   "execution_count": 5,
   "metadata": {},
   "outputs": [
    {
     "name": "stdout",
     "output_type": "stream",
     "text": [
      "root\n",
      " |-- datetime: timestamp (nullable = true)\n",
      " |-- humidity: double (nullable = true)\n",
      " |-- pressure: double (nullable = true)\n",
      " |-- temperature: double (nullable = true)\n",
      " |-- wind_direction: double (nullable = true)\n",
      " |-- wind_speed: double (nullable = true)\n",
      " |-- weather_condition: string (nullable = true)\n",
      " |-- city: string (nullable = false)\n",
      " |-- country: string (nullable = false)\n",
      " |-- latitude: double (nullable = false)\n",
      " |-- longitude: double (nullable = false)\n",
      "\n"
     ]
    }
   ],
   "source": [
    "weather_measurements_df.printSchema()\n"
   ]
  },
  {
   "cell_type": "markdown",
   "metadata": {},
   "source": [
    "#### Removing null data points"
   ]
  },
  {
   "cell_type": "code",
   "execution_count": 5,
   "metadata": {},
   "outputs": [
    {
     "name": "stdout",
     "output_type": "stream",
     "text": [
      "Missing values of column `datetime` count: 0\n"
     ]
    },
    {
     "name": "stderr",
     "output_type": "stream",
     "text": [
      "                                                                                \r"
     ]
    },
    {
     "name": "stdout",
     "output_type": "stream",
     "text": [
      "Missing values of column `humidity` count: 28868\n"
     ]
    },
    {
     "name": "stderr",
     "output_type": "stream",
     "text": [
      "                                                                                \r"
     ]
    },
    {
     "name": "stdout",
     "output_type": "stream",
     "text": [
      "Missing values of column `pressure` count: 16680\n"
     ]
    },
    {
     "name": "stderr",
     "output_type": "stream",
     "text": [
      "                                                                                \r"
     ]
    },
    {
     "name": "stdout",
     "output_type": "stream",
     "text": [
      "Missing values of column `temperature` count: 8030\n"
     ]
    },
    {
     "name": "stderr",
     "output_type": "stream",
     "text": [
      "                                                                                \r"
     ]
    },
    {
     "name": "stdout",
     "output_type": "stream",
     "text": [
      "Missing values of column `wind_direction` count: 7975\n"
     ]
    },
    {
     "name": "stderr",
     "output_type": "stream",
     "text": [
      "                                                                                \r"
     ]
    },
    {
     "name": "stdout",
     "output_type": "stream",
     "text": [
      "Missing values of column `wind_speed` count: 7993\n"
     ]
    },
    {
     "name": "stderr",
     "output_type": "stream",
     "text": [
      "                                                                                \r"
     ]
    },
    {
     "name": "stdout",
     "output_type": "stream",
     "text": [
      "Missing values of column `weather_condition` count: 7955\n",
      "Missing values of column `city` count: 0\n",
      "Missing values of column `country` count: 0\n",
      "Missing values of column `latitude` count: 0\n",
      "Missing values of column `longitude` count: 0\n"
     ]
    }
   ],
   "source": [
    "for c in weather_measurements_df.columns:\n",
    "    print(f'Missing values of column `{c}` count: {weather_measurements_df.where(col(c).isNull()).count()}')"
   ]
  },
  {
   "cell_type": "code",
   "execution_count": 2,
   "metadata": {},
   "outputs": [],
   "source": [
    "not_null_weather_measurements_df = weather_measurements_df.dropna()\n"
   ]
  },
  {
   "cell_type": "code",
   "execution_count": 4,
   "metadata": {},
   "outputs": [
    {
     "name": "stderr",
     "output_type": "stream",
     "text": [
      "                                                                                \r"
     ]
    },
    {
     "name": "stdout",
     "output_type": "stream",
     "text": [
      "+-------------------+--------+--------+-------------+--------------+----------+-----------------+---------+-------+--------+-----------+\n",
      "|           datetime|humidity|pressure|  temperature|wind_direction|wind_speed|weather_condition|     city|country|latitude|  longitude|\n",
      "+-------------------+--------+--------+-------------+--------------+----------+-----------------+---------+-------+--------+-----------+\n",
      "|2012-10-02 09:00:00|    87.0|   807.0| 284.59021694|         268.0|       0.0|    broken clouds|Vancouver| Canada|49.24966|-123.119339|\n",
      "|2012-10-02 10:00:00|    88.0|   849.0|284.588173552|         281.0|       0.0|    broken clouds|Vancouver| Canada|49.24966|-123.119339|\n",
      "|2012-10-02 11:00:00|    89.0|   890.0|284.586130164|         295.0|       0.0|    broken clouds|Vancouver| Canada|49.24966|-123.119339|\n",
      "|2012-10-02 12:00:00|    89.0|   932.0|284.584086776|         309.0|       0.0|    broken clouds|Vancouver| Canada|49.24966|-123.119339|\n",
      "|2012-10-02 13:00:00|    90.0|   973.0|284.582043388|         323.0|       0.0|    broken clouds|Vancouver| Canada|49.24966|-123.119339|\n",
      "|2012-10-02 14:00:00|    91.0|  1015.0|       284.58|         337.0|       0.0|     sky is clear|Vancouver| Canada|49.24966|-123.119339|\n",
      "|2012-10-02 15:00:00|    89.0|  1027.0|       284.85|         346.0|       0.0|     sky is clear|Vancouver| Canada|49.24966|-123.119339|\n",
      "|2012-10-02 16:00:00|    76.0|  1015.0|       286.26|         157.0|       0.0|     sky is clear|Vancouver| Canada|49.24966|-123.119339|\n",
      "|2012-10-02 17:00:00|    76.0|  1014.0|       286.77|          45.0|       0.0|     sky is clear|Vancouver| Canada|49.24966|-123.119339|\n",
      "|2012-10-02 19:00:00|    58.0|  1013.0|       289.51|         157.0|       0.0|     sky is clear|Vancouver| Canada|49.24966|-123.119339|\n",
      "|2012-10-02 20:00:00|    53.0|  1012.0|       289.67|         157.0|       0.0|     sky is clear|Vancouver| Canada|49.24966|-123.119339|\n",
      "|2012-10-02 21:00:00|    47.0|  1011.0|       290.29|         157.0|       0.0|     sky is clear|Vancouver| Canada|49.24966|-123.119339|\n",
      "|2012-10-02 22:00:00|    45.0|  1010.0|       291.09|         157.0|       0.0|     sky is clear|Vancouver| Canada|49.24966|-123.119339|\n",
      "|2012-10-03 00:00:00|    49.0|  1008.0|       291.26|         337.0|       0.0|     sky is clear|Vancouver| Canada|49.24966|-123.119339|\n",
      "|2012-10-03 01:00:00|    57.0|  1008.0|       290.62|         337.0|       0.0|     sky is clear|Vancouver| Canada|49.24966|-123.119339|\n",
      "|2012-10-03 04:00:00|    83.0|  1008.0|        286.6|         202.0|       1.0|     sky is clear|Vancouver| Canada|49.24966|-123.119339|\n",
      "|2012-10-03 08:00:00|    80.0|  1009.0|       284.78|         202.0|       0.0|     sky is clear|Vancouver| Canada|49.24966|-123.119339|\n",
      "|2012-10-03 09:00:00|    81.0|  1009.0|       284.24|         225.0|       0.0|     sky is clear|Vancouver| Canada|49.24966|-123.119339|\n",
      "|2012-10-03 10:00:00|    83.0|  1009.0|       284.17|         180.0|       0.0|     sky is clear|Vancouver| Canada|49.24966|-123.119339|\n",
      "|2012-10-03 11:00:00|    85.0|  1010.0|       283.25|          45.0|       0.0|     sky is clear|Vancouver| Canada|49.24966|-123.119339|\n",
      "+-------------------+--------+--------+-------------+--------------+----------+-----------------+---------+-------+--------+-----------+\n",
      "only showing top 20 rows\n",
      "\n"
     ]
    }
   ],
   "source": [
    "# Not null and consolidated dataframe\n",
    "not_null_weather_measurements_df.show()"
   ]
  },
  {
   "cell_type": "code",
   "execution_count": 7,
   "metadata": {},
   "outputs": [
    {
     "name": "stderr",
     "output_type": "stream",
     "text": [
      "24/02/24 20:24:12 WARN DAGScheduler: Broadcasting large task binary with size 1305.1 KiB\n",
      "[Stage 384:====================================================>(107 + 1) / 108]\r"
     ]
    },
    {
     "name": "stdout",
     "output_type": "stream",
     "text": [
      "+----------------------------+------+\n",
      "|weather_condition           |count |\n",
      "+----------------------------+------+\n",
      "|fog                         |16247 |\n",
      "|very heavy rain             |1001  |\n",
      "|proximity shower rain       |2339  |\n",
      "|few clouds                  |134584|\n",
      "|heavy shower snow           |336   |\n",
      "|light rain                  |127984|\n",
      "|light intensity drizzle     |8110  |\n",
      "|light intensity shower rain |3695  |\n",
      "|broken clouds               |168373|\n",
      "|overcast clouds             |135049|\n",
      "|light snow                  |14554 |\n",
      "|scattered clouds            |144223|\n",
      "|thunderstorm with heavy rain|396   |\n",
      "|thunderstorm with light rain|1179  |\n",
      "|heavy intensity rain        |14075 |\n",
      "|moderate rain               |43296 |\n",
      "|light intensity drizzle rain|41    |\n",
      "|sky is clear                |646304|\n",
      "|snow                        |3156  |\n",
      "|light shower snow           |1029  |\n",
      "+----------------------------+------+\n",
      "only showing top 20 rows\n",
      "\n"
     ]
    },
    {
     "name": "stderr",
     "output_type": "stream",
     "text": [
      "                                                                                \r"
     ]
    }
   ],
   "source": [
    "# Specific weather Columns\n",
    "not_null_weather_measurements_df.groupBy(WEATHER_CONDITION_COL).count().show(truncate=False)\n"
   ]
  },
  {
   "cell_type": "code",
   "execution_count": 3,
   "metadata": {},
   "outputs": [],
   "source": [
    "#weather condition dictionary to map specific data points to broader categories\n",
    "from typing import Dict, Iterable, List\n",
    "\n",
    "\n",
    "def get_weather_conditions_aggregation_dict(weather_conditions: Iterable[str]) -> Dict[str, str]:\n",
    "    \n",
    "    weather_conditions_dict = dict()\n",
    "  \n",
    "    for weather_condition in weather_conditions:\n",
    "  \n",
    "        weather_condition_lowered = weather_condition.lower()\n",
    "\n",
    "        if any(key in weather_condition_lowered for key in ['squall', 'thunderstorm']):\n",
    "            weather_conditions_dict[weather_condition] = 'thunderstorm'\n",
    "        elif any(key in weather_condition_lowered for key in ['drizzle', 'rain']):\n",
    "            weather_conditions_dict[weather_condition] = 'rainy'\n",
    "        elif any(key in weather_condition_lowered for key in ['sleet', 'snow']):\n",
    "            weather_conditions_dict[weather_condition] = 'snowy'\n",
    "        elif 'cloud' in weather_condition_lowered:\n",
    "            weather_conditions_dict[weather_condition] = 'cloudy'\n",
    "        elif any(key in weather_condition_lowered for key in ['fog', 'mist', 'haze']):\n",
    "            weather_conditions_dict[weather_condition] = 'foggy'\n",
    "        elif any(key in weather_condition_lowered for key in ['clear', 'sun']):\n",
    "            weather_conditions_dict[weather_condition] = 'sunny'\n",
    "            \n",
    "    return weather_conditions_dict"
   ]
  },
  {
   "cell_type": "code",
   "execution_count": 4,
   "metadata": {},
   "outputs": [
    {
     "name": "stderr",
     "output_type": "stream",
     "text": [
      "24/02/24 23:14:48 WARN DAGScheduler: Broadcasting large task binary with size 1244.5 KiB\n",
      "                                                                                \r"
     ]
    }
   ],
   "source": [
    "weather_conditions_all = not_null_weather_measurements_df.select(WEATHER_CONDITION_COL).distinct().rdd.flatMap(lambda x: x).collect()\n",
    "weather_conditions_dict = get_weather_conditions_aggregation_dict(weather_conditions_all)\n",
    "broadcast_dict = spark.sparkContext.broadcast(weather_conditions_dict)"
   ]
  },
  {
   "cell_type": "code",
   "execution_count": 5,
   "metadata": {},
   "outputs": [],
   "source": [
    "# Apply the UDF to the specific weather condition column\n",
    "from pyspark.sql.functions import col, udf\n",
    "from pyspark.sql.types import StringType\n",
    "\n",
    "def map_weather_condition(weather_condition):\n",
    "    return broadcast_dict.value.get(weather_condition, \"Unknown\")\n",
    "\n",
    "map_weather_condition_udf = udf(map_weather_condition, StringType())\n",
    "\n",
    "# Apply the UDF to the specific weather condition column\n",
    "weather_measurements_aggregate_df = not_null_weather_measurements_df.withColumn(\n",
    "    \"Broad_Weather_Condition\",\n",
    "    map_weather_condition_udf(col(WEATHER_CONDITION_COL))\n",
    ")\n",
    "\n",
    "# Optionally, drop the original specific weather condition column\n",
    "weather_measurements_aggregate_general_df = weather_measurements_aggregate_df.drop(WEATHER_CONDITION_COL)\n",
    "\n"
   ]
  },
  {
   "cell_type": "code",
   "execution_count": 11,
   "metadata": {},
   "outputs": [
    {
     "name": "stderr",
     "output_type": "stream",
     "text": [
      "24/02/24 20:25:59 WARN DAGScheduler: Broadcasting large task binary with size 1552.5 KiB\n"
     ]
    },
    {
     "name": "stdout",
     "output_type": "stream",
     "text": [
      "+-------------------+--------+--------+-------------+--------------+----------+---------+-------+--------+-----------+-----------------------+\n",
      "|           datetime|humidity|pressure|  temperature|wind_direction|wind_speed|     city|country|latitude|  longitude|Broad_Weather_Condition|\n",
      "+-------------------+--------+--------+-------------+--------------+----------+---------+-------+--------+-----------+-----------------------+\n",
      "|2012-10-02 09:00:00|    87.0|   807.0| 284.59021694|         268.0|       0.0|Vancouver| Canada|49.24966|-123.119339|                 cloudy|\n",
      "|2012-10-02 10:00:00|    88.0|   849.0|284.588173552|         281.0|       0.0|Vancouver| Canada|49.24966|-123.119339|                 cloudy|\n",
      "|2012-10-02 11:00:00|    89.0|   890.0|284.586130164|         295.0|       0.0|Vancouver| Canada|49.24966|-123.119339|                 cloudy|\n",
      "|2012-10-02 12:00:00|    89.0|   932.0|284.584086776|         309.0|       0.0|Vancouver| Canada|49.24966|-123.119339|                 cloudy|\n",
      "|2012-10-02 13:00:00|    90.0|   973.0|284.582043388|         323.0|       0.0|Vancouver| Canada|49.24966|-123.119339|                 cloudy|\n",
      "+-------------------+--------+--------+-------------+--------------+----------+---------+-------+--------+-----------+-----------------------+\n",
      "only showing top 5 rows\n",
      "\n"
     ]
    }
   ],
   "source": [
    "# Not null and consolidated dataframe with broad weather conditions\n",
    "SLOW_OPERATIONS: bool = True\n",
    "if SLOW_OPERATIONS: weather_measurements_aggregate_general_df.show(5)"
   ]
  },
  {
   "cell_type": "code",
   "execution_count": 13,
   "metadata": {},
   "outputs": [
    {
     "name": "stderr",
     "output_type": "stream",
     "text": [
      "24/02/24 20:27:09 WARN DAGScheduler: Broadcasting large task binary with size 1418.1 KiB\n",
      "[Stage 1089:===============================================>     (97 + 8) / 108]\r"
     ]
    },
    {
     "name": "stdout",
     "output_type": "stream",
     "text": [
      "+-----------------------+------+\n",
      "|Broad_Weather_Condition|count |\n",
      "+-----------------------+------+\n",
      "|rainy                  |203624|\n",
      "|snowy                  |21500 |\n",
      "|Unknown                |3333  |\n",
      "|sunny                  |646304|\n",
      "|cloudy                 |582229|\n",
      "|thunderstorm           |10883 |\n",
      "|foggy                  |139389|\n",
      "+-----------------------+------+\n",
      "\n"
     ]
    },
    {
     "name": "stderr",
     "output_type": "stream",
     "text": [
      "24/02/24 20:27:16 WARN DAGScheduler: Broadcasting large task binary with size 1028.6 KiB\n",
      "                                                                                \r"
     ]
    }
   ],
   "source": [
    "# Broad weather condition columns\n",
    "BROAD_WEATHER_COL = 'Broad_Weather_Condition'\n",
    "weather_measurements_aggregate_general_df.groupBy(BROAD_WEATHER_COL).count().show(truncate=False)\n"
   ]
  },
  {
   "cell_type": "code",
   "execution_count": 6,
   "metadata": {},
   "outputs": [],
   "source": [
    "# Filter out the rows where Broad_Weather_Condition is 'Unknown'\n",
    "\n",
    "weather_aggregate_filtered_df = weather_measurements_aggregate_general_df.filter(col(\"Broad_Weather_Condition\") != \"Unknown\")\n",
    "\n"
   ]
  },
  {
   "cell_type": "code",
   "execution_count": 7,
   "metadata": {},
   "outputs": [],
   "source": [
    "from pyspark.sql.window import Window\n",
    "from pyspark.sql.functions import row_number, col\n",
    "\n",
    "# Define the window specification\n",
    "windowSpec = Window.partitionBy(\"Broad_Weather_Condition\").orderBy(col(DATETIME_COL).desc())\n",
    "\n",
    "# Add row number to each row within the window\n",
    "weather_ranked_df = weather_aggregate_filtered_df.withColumn(\"row_number\", row_number().over(windowSpec))\n",
    "\n",
    "# Filter the ranked dataframe to get the latest 10,000 datasets for each BROAD_WEATHER_COL\n",
    "weather_aggregate_10k_df = weather_ranked_df.filter(col(\"row_number\") <= 10000)\n",
    "\n",
    "# Drop the row_number column\n",
    "weather_aggregate_final_df = weather_aggregate_10k_df.drop(\"row_number\")\n",
    "\n",
    "# Show the final dataframe\n",
    "weather_aggregate_final_df.groupBy(BROAD_WEATHER_COL).count().show(truncate=False)\n"
   ]
  },
  {
   "cell_type": "markdown",
   "metadata": {},
   "source": [
    "#### Statistical distribution of the dataset"
   ]
  },
  {
   "cell_type": "code",
   "execution_count": 10,
   "metadata": {},
   "outputs": [
    {
     "name": "stderr",
     "output_type": "stream",
     "text": [
      "24/02/24 21:01:59 WARN SparkStringUtils: Truncated the string representation of a plan since it was too large. This behavior can be adjusted by setting 'spark.sql.debug.maxToStringFields'.\n",
      "24/02/24 21:02:13 WARN DAGScheduler: Broadcasting large task binary with size 1562.8 KiB\n",
      "24/02/24 21:02:19 WARN DAGScheduler: Broadcasting large task binary with size 1167.9 KiB\n",
      "[Stage 746:============================>                            (2 + 2) / 4]\r"
     ]
    },
    {
     "name": "stdout",
     "output_type": "stream",
     "text": [
      "+-------+-----------------+------------------+------------------+------------------+------------------+-----------+-------------+------------------+------------------+-----------------------+\n",
      "|summary|         humidity|          pressure|       temperature|    wind_direction|        wind_speed|       city|      country|          latitude|         longitude|Broad_Weather_Condition|\n",
      "+-------+-----------------+------------------+------------------+------------------+------------------+-----------+-------------+------------------+------------------+-----------------------+\n",
      "|  count|            60000|             60000|             60000|             60000|             60000|      60000|        60000|             60000|             60000|                  60000|\n",
      "|   mean|71.55261666666667|1016.4122333333333| 286.2820732973409|         184.79965| 3.399583333333333|       NULL|         NULL|38.418978419401576|-88.86701029880867|                   NULL|\n",
      "| stddev|21.32378976370175|     8.35102744217|11.073503369100305|104.02776411198737|2.3015657235460107|       NULL|         NULL| 5.680634116057891|25.623409172219297|                   NULL|\n",
      "|    min|              5.0|             817.0|            248.05|               0.0|               0.0|Albuquerque|       Canada|         25.774269|       -123.119339|                 cloudy|\n",
      "|    max|            100.0|            1089.0|            317.35|             360.0|              23.0|  Vancouver|United States|          49.24966|         35.216331|           thunderstorm|\n",
      "+-------+-----------------+------------------+------------------+------------------+------------------+-----------+-------------+------------------+------------------+-----------------------+\n",
      "\n"
     ]
    },
    {
     "name": "stderr",
     "output_type": "stream",
     "text": [
      "24/02/24 21:02:20 WARN DAGScheduler: Broadcasting large task binary with size 1234.1 KiB\n",
      "                                                                                \r"
     ]
    }
   ],
   "source": [
    "\n",
    "weather_aggregate_final_df.describe().show()\n"
   ]
  },
  {
   "cell_type": "code",
   "execution_count": 9,
   "metadata": {},
   "outputs": [
    {
     "name": "stderr",
     "output_type": "stream",
     "text": [
      "24/02/24 23:16:53 WARN DAGScheduler: Broadcasting large task binary with size 1562.8 KiB\n",
      "24/02/24 23:16:59 WARN DAGScheduler: Broadcasting large task binary with size 1333.9 KiB\n",
      "                                                                                \r"
     ]
    }
   ],
   "source": [
    "# Save the DataFrame as a single CSV file\n",
    "\n",
    "# Path where the CSV file will be saved\n",
    "final_dataset_path = \"dataset/final_dataset.csv\"\n",
    "\n",
    "\n",
    "(weather_aggregate_final_df\n",
    "    .coalesce(1)  # Combine all partitions into one\n",
    "    .write\n",
    "    .option(\"header\", \"true\")  # Include header\n",
    "    .csv(final_dataset_path))"
   ]
  },
  {
   "cell_type": "markdown",
   "metadata": {},
   "source": [
    "### Machine Learning Start\n",
    "============================================================================================"
   ]
  },
  {
   "cell_type": "code",
   "execution_count": 6,
   "metadata": {},
   "outputs": [],
   "source": [
    "# Split the dataset into train and test sets\n",
    "\n",
    "train_df, test_df = weather_aggregate_final_df.randomSplit([0.8, 0.2], seed=42)\n",
    "\n",
    "MAX_TRAIN_SIZE: int = 999_999\n",
    "# necessary due to DataBricks limits (training on a dataframe larger than this threshold causes an Internal Server Error)\n",
    "train_df = train_df.limit(MAX_TRAIN_SIZE)\n",
    "\n",
    "\n",
    "print(f'Train set size:  {train_df.count()} instances')\n",
    "print(f'Test set size:   {test_df.count()} instances')"
   ]
  },
  {
   "cell_type": "markdown",
   "metadata": {},
   "source": [
    "### ML pipeline =================================\n",
    "### Data Encoding Pipeline =================="
   ]
  },
  {
   "cell_type": "code",
   "execution_count": 11,
   "metadata": {},
   "outputs": [],
   "source": [
    "# Define the numerical and categorical features\n",
    "# --------------------------------\n",
    "\n",
    "NUMERICAL_FEATURES = [HUMIDITY_COL,\n",
    "                      PRESSURE_COL,\n",
    "                      TEMPERATURE_COL,\n",
    "                      WIND_DIRECTION_COL,\n",
    "                      WIND_SPEED_COL,\n",
    "                      LATITUDE_COL,\n",
    "                      LONGITUDE_COL]\n",
    "\n",
    "CATEGORICAL_FEATURES = []\n",
    "\n",
    "TARGET_VARIABLE_COL = 'Broad_Weather_Condition'\n",
    "PREDICTED_TARGET_VARIABLE_COL = f'predicted_{TARGET_VARIABLE_COL}'\n",
    "\n",
    "LABEL_COL = 'label'\n",
    "PREDICTION_COL = 'prediction'\n",
    "\n",
    "FEATURES_COL = 'features'\n",
    "SCALED_FEATURES_COL = f'scaled_{FEATURES_COL}'"
   ]
  },
  {
   "cell_type": "code",
   "execution_count": 12,
   "metadata": {},
   "outputs": [],
   "source": [
    "def save_pyspark_model(model, path: str, append_datetime: bool = True) -> None:\n",
    "    \n",
    "    if append_datetime:\n",
    "        from datetime import datetime\n",
    "        path += '-' + datetime.now().strftime(\"%Y%d%m-%H%M%S\")\n",
    "    \n",
    "    model.write().overwrite().save(path)"
   ]
  },
  {
   "cell_type": "code",
   "execution_count": 20,
   "metadata": {},
   "outputs": [],
   "source": [
    "# Save the train and test sets to disk\n",
    "#===============================================\n",
    "\n",
    "from pyspark.ml import Pipeline\n",
    "from pyspark.ml.feature import StringIndexer, OneHotEncoder, VectorAssembler, StandardScaler\n",
    "from pyspark.sql import DataFrame\n",
    "from pyspark.ml.pipeline import PipelineModel\n",
    "from typing import List\n",
    "def encoding_pipeline(dataframe: DataFrame,\n",
    "                      numerical_features: List[str],\n",
    "                      categorical_features: List[str],\n",
    "                      target_variable: str,\n",
    "                      with_std: bool = True,\n",
    "                      with_mean: bool = False) -> PipelineModel:\n",
    "    \n",
    "\n",
    "    # Indexing, i.e. transform to numerical values, the target column and rename it as the variable `LABEL_COL`\n",
    "    label_indexer = StringIndexer(inputCol=target_variable, outputCol=LABEL_COL)\n",
    "    \n",
    "    # A list of indexers, one for each categorical feature\n",
    "    indexers = [StringIndexer(inputCol=c, outputCol=f'{c}_indexed', handleInvalid='keep') for c in categorical_features]\n",
    "\n",
    "    # One-hot encoder for the list of features just indexed (this encoder will keep any unseen label in the future)\n",
    "    encoder = OneHotEncoder(inputCols=[indexer.getOutputCol() for indexer in indexers], \n",
    "                            outputCols=[f'{indexer.getOutputCol()}_encoded' for indexer in indexers], \n",
    "                            handleInvalid='keep')\n",
    "    \n",
    "    # Assemble all the features (both one-hot-encoded categorical and numerical) into a single vector\n",
    "    features = encoder.getOutputCols() + numerical_features    \n",
    "    assembler = VectorAssembler(inputCols=features, outputCol=FEATURES_COL)\n",
    "    \n",
    "    # Second feature column with the data scaled accordingly to `withStd` and `withMean`\n",
    "    scaler = StandardScaler(inputCol=assembler.getOutputCol(), outputCol=SCALED_FEATURES_COL, withStd=with_std, withMean=with_mean)\n",
    "\n",
    "    stages = [label_indexer] + indexers + [encoder] + [assembler] + [scaler]\n",
    "    pipeline = Pipeline(stages=stages)\n",
    "\n",
    "    transformer = pipeline.fit(dataframe)\n",
    "\n",
    "    return transformer"
   ]
  },
  {
   "cell_type": "code",
   "execution_count": 4,
   "metadata": {},
   "outputs": [
    {
     "ename": "NameError",
     "evalue": "name 'encoding_pipeline' is not defined",
     "output_type": "error",
     "traceback": [
      "\u001b[0;31m---------------------------------------------------------------------------\u001b[0m",
      "\u001b[0;31mNameError\u001b[0m                                 Traceback (most recent call last)",
      "Cell \u001b[0;32mIn[4], line 1\u001b[0m\n\u001b[0;32m----> 1\u001b[0m data_encoder \u001b[38;5;241m=\u001b[39m \u001b[43mencoding_pipeline\u001b[49m(train_df, NUMERICAL_FEATURES, CATEGORICAL_FEATURES, TARGET_VARIABLE_COL)\n\u001b[1;32m      3\u001b[0m MODELS_PATH: \u001b[38;5;28mstr\u001b[39m \u001b[38;5;241m=\u001b[39m \u001b[38;5;124m'\u001b[39m\u001b[38;5;124mmodels\u001b[39m\u001b[38;5;124m'\u001b[39m\n\u001b[1;32m      4\u001b[0m ENCODING_PIPELINE_PATH: \u001b[38;5;28mstr\u001b[39m \u001b[38;5;241m=\u001b[39m \u001b[38;5;124mf\u001b[39m\u001b[38;5;124m'\u001b[39m\u001b[38;5;132;01m{\u001b[39;00mMODELS_PATH\u001b[38;5;132;01m}\u001b[39;00m\u001b[38;5;124mdata_encoder\u001b[39m\u001b[38;5;124m'\u001b[39m\n",
      "\u001b[0;31mNameError\u001b[0m: name 'encoding_pipeline' is not defined"
     ]
    }
   ],
   "source": [
    "# Train the encoding pipeline with a dataset\n",
    "\n",
    "data_encoder = encoding_pipeline(train_df, NUMERICAL_FEATURES, CATEGORICAL_FEATURES, TARGET_VARIABLE_COL)\n",
    "     \n",
    "MODELS_PATH: str = 'models'\n",
    "ENCODING_PIPELINE_PATH: str = f'{MODELS_PATH}data_encoder'\n",
    "\n",
    "save_pyspark_model(data_encoder, ENCODING_PIPELINE_PATH)\n",
    "\n",
    "\n",
    "encoded_train_df = data_encoder.transform(train_df)\n",
    "encoded_test_df = data_encoder.transform(test_df)\n",
    "\n",
    "\n",
    "encoded_train_df.select([FEATURES_COL, SCALED_FEATURES_COL, LABEL_COL]).show(5)"
   ]
  },
  {
   "cell_type": "markdown",
   "metadata": {},
   "source": [
    "====================================================================================\n",
    "## Random Forest Model"
   ]
  },
  {
   "cell_type": "code",
   "execution_count": 24,
   "metadata": {},
   "outputs": [],
   "source": [
    "from pyspark.ml.classification import RandomForestClassifier, RandomForestClassificationModel\n",
    "\n",
    "rnd_forest_model = RandomForestClassificationModel.load(RANDOM_FOREST_MODEL_PATH) if LOAD_PRETRAINED_MODELS \\\n",
    "                   else RandomForestClassifier(featuresCol=FEATURES_COL, labelCol=LABEL_COL).fit(encoded_train_df)\n",
    "     \n",
    "\n",
    "rnd_forest_predictions = rnd_forest_model.transform(encoded_test_df)\n",
    "\n",
    "\n",
    "from pyspark.ml.feature import IndexToString\n",
    "\n",
    "predictions_idx_to_str = IndexToString(inputCol=PREDICTION_COL,\n",
    "                                       outputCol=PREDICTED_TARGET_VARIABLE_COL,\n",
    "                                       labels=data_encoder.stages[0].labels)\n",
    "\n",
    "\n",
    "rnd_forest_predictions = predictions_idx_to_str.transform(rnd_forest_predictions)"
   ]
  },
  {
   "cell_type": "code",
   "execution_count": 28,
   "metadata": {},
   "outputs": [],
   "source": [
    "# Evaluate the predictions of a model\n",
    "\n",
    "from pyspark.sql import DataFrame\n",
    "from pyspark.ml.evaluation import MulticlassClassificationEvaluator\n",
    "\n",
    "def eval_predictions(predictions: DataFrame) -> None:\n",
    "    # Define evaluators for precision, recall, and accuracy\n",
    "    precision_evaluator = MulticlassClassificationEvaluator(labelCol=LABEL_COL, predictionCol=PREDICTION_COL, metricName=\"precisionByLabel\")\n",
    "    recall_evaluator = MulticlassClassificationEvaluator(labelCol=LABEL_COL, predictionCol=PREDICTION_COL, metricName=\"recallByLabel\")\n",
    "    accuracy_evaluator = MulticlassClassificationEvaluator(labelCol=LABEL_COL, predictionCol=PREDICTION_COL, metricName=\"accuracy\")\n",
    "\n",
    "    # Compute metrics\n",
    "    precision = precision_evaluator.evaluate(predictions)\n",
    "    recall = recall_evaluator.evaluate(predictions)\n",
    "    accuracy = accuracy_evaluator.evaluate(predictions)\n",
    "    f1_score = 2 * precision * recall / (precision + recall) if (precision + recall) != 0 else 0\n",
    "\n",
    "    # Print metrics\n",
    "    print(f'Accuracy: {accuracy}')\n",
    "    print(f'Precision: {precision}')\n",
    "    print(f'Recall: {recall}')\n",
    "    print(f'F1-score: {f1_score}')\n",
    "\n",
    "\n",
    "\n",
    "eval_predictions(rnd_forest_predictions)"
   ]
  },
  {
   "cell_type": "code",
   "execution_count": 32,
   "metadata": {},
   "outputs": [],
   "source": [
    "# Save the model\n",
    "\n",
    "RANDOM_FOREST_MODEL_PATH: str = f'{MODELS_PATH}rnd_forest'\n",
    "# if SAVE_COMPUTATIONS and not LOAD_PRETRAINED_MODELS:\n",
    "    \n",
    "save_pyspark_model(rnd_forest_model, RANDOM_FOREST_MODEL_PATH)\n",
    "print(\"Random Forest model saved\")"
   ]
  },
  {
   "cell_type": "code",
   "execution_count": 36,
   "metadata": {},
   "outputs": [
    {
     "data": {
      "image/png": "[encoded data removed]",
      "text/plain": [
       "<Figure size 640x480 with 2 Axes>"
      ]
     },
     "metadata": {},
     "output_type": "display_data"
    }
   ],
   "source": [
    "# Plot the confusion matrix\n",
    "\n",
    "import matplotlib.pyplot as plt\n",
    "import numpy as np\n",
    "\n",
    "def plot_confusion_matrix(predictions_df: DataFrame,\n",
    "                          target_col: str,\n",
    "                          prediction_col: str,\n",
    "                          normalize: bool = False,\n",
    "                          title: str = None):\n",
    "    \n",
    "    # Compute confusion matrix components\n",
    "    metrics_data = predictions_df.groupBy(target_col, prediction_col).count().collect()\n",
    "\n",
    "    # Extract unique labels\n",
    "    labels = sorted(predictions_df.select(target_col).distinct().rdd.flatMap(lambda x: x).collect())\n",
    "    pred_labels = sorted(predictions_df.select(prediction_col).distinct().rdd.flatMap(lambda x: x).collect())\n",
    "    num_labels = max(len(labels), len(pred_labels))\n",
    "\n",
    "    # Initialize confusion matrix\n",
    "    cm = np.zeros((num_labels, num_labels), dtype=int)\n",
    "\n",
    "    # Fill confusion matrix\n",
    "    label_dict = {label: i for i, label in enumerate(labels)}\n",
    "    pred_label_dict = {label: i for i, label in enumerate(pred_labels)}\n",
    "    for row in metrics_data:\n",
    "        i = label_dict[row[target_col]]\n",
    "        j = pred_label_dict[row[prediction_col]]\n",
    "        cm[i, j] = row['count']\n",
    "\n",
    "    # Normalize if required\n",
    "    if normalize:\n",
    "        cm = cm.astype('float') / cm.sum(axis=1)[:, np.newaxis]\n",
    "\n",
    "    # Plot the confusion matrix\n",
    "    fig, ax = plt.subplots()\n",
    "    im = ax.imshow(cm, interpolation='nearest', cmap=plt.cm.Blues)\n",
    "    ax.figure.colorbar(im, ax=ax)\n",
    "    ax.set(xticks=np.arange(num_labels),\n",
    "           yticks=np.arange(num_labels),\n",
    "           xticklabels=pred_labels,\n",
    "           yticklabels=labels,\n",
    "           title=title if title else 'Confusion Matrix',\n",
    "           ylabel='True Label',\n",
    "           xlabel='Predicted Label')\n",
    "\n",
    "    # Rotate the tick labels and set their alignment\n",
    "    plt.setp(ax.get_xticklabels(), rotation=45, ha=\"right\", rotation_mode=\"anchor\")\n",
    "\n",
    "    # Loop over data dimensions and create text annotations\n",
    "    fmt = '.2f' if normalize else 'd'\n",
    "    thresh = cm.max() / 2.\n",
    "    for i in range(num_labels):\n",
    "        for j in range(num_labels):\n",
    "            ax.text(j, i, format(cm[i, j], fmt),\n",
    "                    ha=\"center\", va=\"center\",\n",
    "                    color=\"white\" if cm[i, j] > thresh else \"black\")\n",
    "    fig.tight_layout()\n",
    "    plt.show()\n",
    "\n",
    "# Usage example\n",
    "plot_confusion_matrix(rnd_forest_predictions, TARGET_VARIABLE_COL, PREDICTED_TARGET_VARIABLE_COL, normalize= True)\n"
   ]
  },
  {
   "cell_type": "markdown",
   "metadata": {},
   "source": [
    "============================================================================================================================================================\n"
   ]
  },
  {
   "cell_type": "markdown",
   "metadata": {},
   "source": [
    "============================================================================================================================================================\n"
   ]
  },
  {
   "cell_type": "markdown",
   "metadata": {},
   "source": [
    "====================================================================="
   ]
  }
 ],
 "metadata": {
  "kernelspec": {
   "display_name": "Python 3",
   "language": "python",
   "name": "python3"
  },
  "language_info": {
   "codemirror_mode": {
    "name": "ipython",
    "version": 3
   },
   "file_extension": ".py",
   "mimetype": "text/x-python",
   "name": "python",
   "nbconvert_exporter": "python",
   "pygments_lexer": "ipython3",
   "version": "3.11.5"
  }
 },
 "nbformat": 4,
 "nbformat_minor": 2
}
